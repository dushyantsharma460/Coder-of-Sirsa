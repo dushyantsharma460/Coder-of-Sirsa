import json

def load_data(filename):
    with open(filename,"r") as f:
        return json.load(f)

def find_people_you_may_know(user_id,data):
    user_friends = {}
    for user in data["users"]:
        user_friends[user["id"]] = set(user['friends'])
        
    if user_id not in user_friends:
        return []

    

# Load the data
data = load_data("data.json")
user_id = 1
recc = find_people_you_may_know(user_id, data)


