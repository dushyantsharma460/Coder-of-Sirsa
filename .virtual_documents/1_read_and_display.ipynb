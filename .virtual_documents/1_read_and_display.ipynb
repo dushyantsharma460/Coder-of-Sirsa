import json


# Lets write the fuction to load the data
def load_data(filename):
    with open(filename, "r") as f:
        data = json.load(f)
    return data


data = load_data("data.json")


data


type(data)


# Write a function to display user and their connection
def display_users(data):
    print("User and their Connection\n")
    for user in data['users']:
        print(f"ID {user['id']} - {user['name']} is friends with: {user['friends']} and linked pages are {user['liked_pages']}")
    print("\nPages Information")
    for page in data['pages']:
        print(f"{page['id']} : {page['name']}")

display_users(data)
