


import json 

def clean_data(data):
    # Remove user with missing names
    data["users"] = [user for user in data["users"] if user["name"].strip()]
    
    # Remove duplicate friends
    for user in data["users"]:
        user["friends"] = list(set(user["friends"]))

    # Removing inactive users
    data["users"] = [user for user in data["users"] if user["friends"] or user["liked_pages"]]

    # Removing duplicate pages
    unique_pages = {}
    for page in data["pages"]:
        unique_pages[page["id"]] = page

    print(unique_pages[102])  # That's the key of my dictionary

    data["pages"] = list(unique_pages.values())

    return data

# Load the data
data = json.load(open("data2.json"))
data = clean_data(data)
json.dump(data, open("cleaned data2.json","w"), indent=4)
print("Data has been cleaned Successfully")
