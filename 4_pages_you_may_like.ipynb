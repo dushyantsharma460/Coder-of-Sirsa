{
 "cells": [
  {
   "cell_type": "code",
   "execution_count": 15,
   "id": "b8375030-8099-4ef6-82b7-63b4d2deed18",
   "metadata": {},
   "outputs": [
    {
     "name": "stdout",
     "output_type": "stream",
     "text": [
      "\n",
      "User to Liked Pages Mapping:\n",
      "User 1: {101}\n",
      "User 2: {102}\n",
      "User 3: {101, 103}\n",
      "User 4: {104}\n",
      "\n",
      "User 1 already likes: {101}\n",
      "\n",
      "Shared pages with User 2: set()\n",
      "Suggesting Page 102: score now 0\n",
      "\n",
      "Shared pages with User 3: {101}\n",
      "Suggesting Page 103: score now 1\n",
      "\n",
      "Shared pages with User 4: set()\n",
      "Suggesting Page 104: score now 0\n",
      "\n",
      "Filtered Page Suggestions (score > 1):\n",
      "\n",
      "Final Page Recommendations for User 1: []\n"
     ]
    }
   ],
   "source": [
    "import json\n",
    "\n",
    "# Function to load the JSON data\n",
    "def load_data(filename):\n",
    "    with open(filename, \"r\") as f:\n",
    "        return json.load(f)\n",
    "\n",
    "# Function to find pages a user might like based on common interests\n",
    "def find_pages_you_might_like(user_id, data):\n",
    "    user_pages = {}\n",
    "\n",
    "    # Build user to liked_pages dictionary\n",
    "    for user in data[\"users\"]:\n",
    "        user_pages[user[\"id\"]] = set(user[\"liked_pages\"])\n",
    "\n",
    "    print(\"\\nUser to Liked Pages Mapping:\")\n",
    "    for uid, pages in user_pages.items():\n",
    "        print(f\"User {uid}: {pages}\")\n",
    "\n",
    "    if user_id not in user_pages:\n",
    "        print(f\"\\nUser {user_id} not found.\")\n",
    "        return []\n",
    "\n",
    "    user_liked_pages = user_pages[user_id]\n",
    "    print(f\"\\nUser {user_id} already likes: {user_liked_pages}\")\n",
    "\n",
    "    page_suggestion = {}\n",
    "\n",
    "    for other_user, pages in user_pages.items():\n",
    "        if other_user != user_id:\n",
    "            shared_pages = user_liked_pages.intersection(pages)\n",
    "            print(f\"\\nShared pages with User {other_user}: {shared_pages}\")\n",
    "\n",
    "            for page in pages:\n",
    "                if page not in user_liked_pages:\n",
    "                    page_suggestion[page] = page_suggestion.get(page, 0) + len(shared_pages)\n",
    "                    print(f\"Suggesting Page {page}: score now {page_suggestion[page]}\")\n",
    "\n",
    "    # Filter pages with score > 1 (i.e., suggested by more than one shared interest)\n",
    "    filtered_suggestions = {pid: score for pid, score in page_suggestion.items() if score > 1}\n",
    "\n",
    "    print(\"\\nFiltered Page Suggestions (score > 1):\")\n",
    "    for pid, score in filtered_suggestions.items():\n",
    "        print(f\"Page {pid}: {score}\")\n",
    "\n",
    "    sorted_pages = sorted(filtered_suggestions.items(), key=lambda x: x[1], reverse=True)\n",
    "\n",
    "    return [page_id for page_id, _ in sorted_pages]\n",
    "\n",
    "\n",
    "# Load data and test\n",
    "data = load_data(\"data.json\")\n",
    "user_id = 1\n",
    "page_recommendation = find_pages_you_might_like(user_id, data)\n",
    "\n",
    "print(f\"\\nFinal Page Recommendations for User {user_id}: {page_recommendation}\")\n"
   ]
  }
 ],
 "metadata": {
  "kernelspec": {
   "display_name": "Python [conda env:base] *",
   "language": "python",
   "name": "conda-base-py"
  },
  "language_info": {
   "codemirror_mode": {
    "name": "ipython",
    "version": 3
   },
   "file_extension": ".py",
   "mimetype": "text/x-python",
   "name": "python",
   "nbconvert_exporter": "python",
   "pygments_lexer": "ipython3",
   "version": "3.13.5"
  }
 },
 "nbformat": 4,
 "nbformat_minor": 5
}
