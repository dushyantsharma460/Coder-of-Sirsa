{
 "cells": [
  {
   "cell_type": "code",
   "execution_count": 33,
   "id": "3c5cbfa5-84c2-4c4f-8b4b-d810832cc360",
   "metadata": {},
   "outputs": [
    {
     "name": "stdout",
     "output_type": "stream",
     "text": [
      "➡️ All users and their friends (user_friends):\n",
      "{1: {2, 3}, 2: {1, 4}, 3: {1}, 4: {2}}\n",
      "\n",
      "👥 Direct friends of user 3: {1}\n",
      "\n",
      "🔍 Checking friends of friend 1: {2, 3}\n",
      "\n",
      " Suggestions List dict_items([(2, 1)])\n",
      "➕ Suggesting 2 (mutual friend via 1), count = 1\n",
      "\n",
      "📌 All suggested people with mutual friend counts: {2: 1}\n",
      "\n",
      "📊 Sorted suggestions (most mutuals first): [(2, 1)]\n",
      "Recommended Suggestions [2]\n"
     ]
    }
   ],
   "source": [
    "import json\n",
    "\n",
    "def load_data(filename):\n",
    "    with open(filename,\"r\") as f:\n",
    "        return json.load(f)\n",
    "\n",
    "def find_people_you_may_know(user_id, data):\n",
    "    user_friends = {}\n",
    "    for user in data[\"users\"]:\n",
    "        user_friends[user[\"id\"]] = set(user['friends'])\n",
    "\n",
    "    print(\"➡️ All users and their friends (user_friends):\")\n",
    "    print(user_friends)\n",
    "        \n",
    "    if user_id not in user_friends:\n",
    "        print(\"❌ User ID not found!\")\n",
    "        return []\n",
    "\n",
    "    direct_friends = user_friends[user_id]\n",
    "    print(f\"\\n👥 Direct friends of user {user_id}: {direct_friends}\")\n",
    "\n",
    "    suggestions = {}\n",
    "    for friend in direct_friends:\n",
    "        print(f\"\\n🔍 Checking friends of friend {friend}: {user_friends[friend]}\")\n",
    "        for mutual in user_friends[friend]:\n",
    "            if mutual != user_id and mutual not in direct_friends:\n",
    "                suggestions[mutual] = suggestions.get(mutual, 0) + 1\n",
    "                print(\"\\n Suggestions List\",suggestions.items())\n",
    "                print(f\"➕ Suggesting {mutual} (mutual friend via {friend}), count = {suggestions[mutual]}\")\n",
    "\n",
    "                \n",
    "    print(f\"\\n📌 All suggested people with mutual friend counts: {suggestions}\")\n",
    "\n",
    "    sorted_suggestions = sorted(suggestions.items(), key=lambda x: x[1], reverse=True)\n",
    "    print(f\"\\n📊 Sorted suggestions (most mutuals first): {sorted_suggestions}\")\n",
    "\n",
    "    return [user_id for user_id, _ in sorted_suggestions]\n",
    "\n",
    "        \n",
    "\n",
    "# Load the data\n",
    "data = load_data(\"data.json\")\n",
    "user_id = 3\n",
    "recc = find_people_you_may_know(user_id, data)\n",
    "print(\"Recommended Suggestions\",recc)\n",
    "\n",
    "\n",
    "\n"
   ]
  }
 ],
 "metadata": {
  "kernelspec": {
   "display_name": "Python [conda env:base] *",
   "language": "python",
   "name": "conda-base-py"
  },
  "language_info": {
   "codemirror_mode": {
    "name": "ipython",
    "version": 3
   },
   "file_extension": ".py",
   "mimetype": "text/x-python",
   "name": "python",
   "nbconvert_exporter": "python",
   "pygments_lexer": "ipython3",
   "version": "3.13.5"
  }
 },
 "nbformat": 4,
 "nbformat_minor": 5
}
