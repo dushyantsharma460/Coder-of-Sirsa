{
 "cells": [
  {
   "cell_type": "markdown",
   "id": "f303308d-0219-4965-a3d0-152b4b7be132",
   "metadata": {},
   "source": [
    "# Problems with data2:\n",
    "- User ID 3 has an empty name.\n",
    "- User ID 4 has a duplicate friend entry.\n",
    "- User ID 5 has no connections or liked pages (inactive user)\n",
    "- The pages list contains duplicate page IDs."
   ]
  },
  {
   "cell_type": "code",
   "execution_count": 1,
   "id": "3a4d12cf-400f-4790-bf49-3c7b5c4f9d56",
   "metadata": {},
   "outputs": [
    {
     "name": "stdout",
     "output_type": "stream",
     "text": [
      "{'id': 102, 'name': 'Data Science Enthusiasts'}\n",
      "Data has been cleaned Successfully\n"
     ]
    }
   ],
   "source": [
    "import json\n",
    "\n",
    "def clean_data(data):\n",
    "    # Remove user with missing names\n",
    "    data[\"users\"] = [user for user in data[\"users\"] if user[\"name\"].strip()]\n",
    "    \n",
    "    # Remove duplicate friends\n",
    "    for user in data[\"users\"]:\n",
    "        user[\"friends\"] = list(set(user[\"friends\"]))\n",
    "\n",
    "    # Removing inactive users\n",
    "    data[\"users\"] = [user for user in data[\"users\"] if user[\"friends\"] or user[\"liked_pages\"]]\n",
    "\n",
    "    # Removing duplicate pages\n",
    "    unique_pages = {}\n",
    "    for page in data[\"pages\"]:\n",
    "        unique_pages[page[\"id\"]] = page\n",
    "\n",
    "    print(unique_pages[102])  # That's the key of my dictionary\n",
    "\n",
    "    data[\"pages\"] = list(unique_pages.values())\n",
    "\n",
    "    return data\n",
    "\n",
    "# Load the data\n",
    "data = json.load(open(\"data2.json\"))\n",
    "data = clean_data(data)\n",
    "json.dump(data, open(\"cleaned data2.json\",\"w\"), indent=4)\n",
    "print(\"Data has been cleaned Successfully\")"
   ]
  }
 ],
 "metadata": {
  "kernelspec": {
   "display_name": "Python [conda env:base] *",
   "language": "python",
   "name": "conda-base-py"
  },
  "language_info": {
   "codemirror_mode": {
    "name": "ipython",
    "version": 3
   },
   "file_extension": ".py",
   "mimetype": "text/x-python",
   "name": "python",
   "nbconvert_exporter": "python",
   "pygments_lexer": "ipython3",
   "version": "3.13.5"
  }
 },
 "nbformat": 4,
 "nbformat_minor": 5
}
